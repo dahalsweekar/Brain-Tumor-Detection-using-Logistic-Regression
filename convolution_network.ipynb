{
 "cells": [
  {
   "cell_type": "code",
   "execution_count": 31,
   "id": "04608b0a",
   "metadata": {},
   "outputs": [],
   "source": [
    "import tensorflow as tf\n",
    "from keras.preprocessing.image import ImageDataGenerator\n",
    "tf.__version__\n",
    "import cv2"
   ]
  },
  {
   "cell_type": "code",
   "execution_count": 32,
   "id": "5102f2f2",
   "metadata": {},
   "outputs": [
    {
     "name": "stdout",
     "output_type": "stream",
     "text": [
      "Found 2065 images belonging to 2 classes.\n"
     ]
    }
   ],
   "source": [
    "# Preprocessing the Training set\n",
    "train_datagen = ImageDataGenerator(rescale = 1./255,\n",
    "                                  shear_range = 0.2,\n",
    "                                   zoom_range = 0.2,\n",
    "                                   horizontal_flip = True)\n",
    "training_set = train_datagen.flow_from_directory('F:/Application/augmented data',\n",
    "                                                 target_size = (64, 64),\n",
    "                                                 batch_size = 32,\n",
    "                                                 #color_mode=\"grayscale\",\n",
    "                                                 class_mode = 'binary')\n"
   ]
  },
  {
   "cell_type": "code",
   "execution_count": 33,
   "id": "5556e8ef",
   "metadata": {},
   "outputs": [
    {
     "name": "stdout",
     "output_type": "stream",
     "text": [
      "Found 253 images belonging to 2 classes.\n"
     ]
    }
   ],
   "source": [
    "# Preprocessing the Test set\n",
    "test_datagen = ImageDataGenerator(rescale = 1./255)\n",
    "test_set = test_datagen.flow_from_directory('F:/Project/dataset/test_set',\n",
    "                                            target_size = (64, 64),\n",
    "                                            batch_size = 32,\n",
    "                                            #color_mode=\"grayscale\",\n",
    "                                            class_mode = 'binary')"
   ]
  },
  {
   "cell_type": "code",
   "execution_count": 34,
   "id": "0afd3db6",
   "metadata": {},
   "outputs": [],
   "source": [
    "#Part 2 - Building the CNN\n",
    "\n",
    "# Initialising the CNN\n",
    "cnn = tf.keras.models.Sequential()\n",
    "\n",
    "#Step 1 - Convolution\n",
    "cnn.add(tf.keras.layers.Conv2D(filters=32, kernel_size=3, activation='relu', input_shape=[64, 64, 3]))\n",
    "\n",
    "# Step 2 - Pooling\n",
    "cnn.add(tf.keras.layers.MaxPool2D(pool_size=2, strides=2))\n",
    "\n",
    "# Adding a second convolutional layer\n",
    "cnn.add(tf.keras.layers.Conv2D(filters=64, kernel_size=3, activation='relu'))\n",
    "cnn.add(tf.keras.layers.MaxPool2D(pool_size=2, strides=2))\n",
    "\n",
    "\n",
    "# Step 3 - Flattening\n",
    "cnn.add(tf.keras.layers.Flatten())\n",
    "\n",
    "# Step 4 - Full Connection\n",
    "cnn.add(tf.keras.layers.Dense(units=128, activation='relu'))\n",
    "\n",
    "# Step 5 - Output Layer\n",
    "cnn.add(tf.keras.layers.Dense(units=1, activation='sigmoid'))\n",
    "\n"
   ]
  },
  {
   "cell_type": "code",
   "execution_count": 35,
   "id": "a11d9637",
   "metadata": {},
   "outputs": [
    {
     "name": "stdout",
     "output_type": "stream",
     "text": [
      "Model: \"sequential_2\"\n",
      "_________________________________________________________________\n",
      " Layer (type)                Output Shape              Param #   \n",
      "=================================================================\n",
      " conv2d_4 (Conv2D)           (None, 62, 62, 32)        896       \n",
      "                                                                 \n",
      " max_pooling2d_4 (MaxPooling  (None, 31, 31, 32)       0         \n",
      " 2D)                                                             \n",
      "                                                                 \n",
      " conv2d_5 (Conv2D)           (None, 29, 29, 64)        18496     \n",
      "                                                                 \n",
      " max_pooling2d_5 (MaxPooling  (None, 14, 14, 64)       0         \n",
      " 2D)                                                             \n",
      "                                                                 \n",
      " flatten_2 (Flatten)         (None, 12544)             0         \n",
      "                                                                 \n",
      " dense_4 (Dense)             (None, 128)               1605760   \n",
      "                                                                 \n",
      " dense_5 (Dense)             (None, 1)                 129       \n",
      "                                                                 \n",
      "=================================================================\n",
      "Total params: 1,625,281\n",
      "Trainable params: 1,625,281\n",
      "Non-trainable params: 0\n",
      "_________________________________________________________________\n"
     ]
    }
   ],
   "source": [
    "cnn.summary()"
   ]
  },
  {
   "cell_type": "code",
   "execution_count": 36,
   "id": "27cdf876",
   "metadata": {},
   "outputs": [
    {
     "name": "stdout",
     "output_type": "stream",
     "text": [
      "Epoch 1/25\n",
      "65/65 [==============================] - 18s 255ms/step - loss: 0.5894 - accuracy: 0.6838 - val_loss: 0.4642 - val_accuracy: 0.7708\n",
      "Epoch 2/25\n",
      "65/65 [==============================] - 16s 241ms/step - loss: 0.5445 - accuracy: 0.7240 - val_loss: 0.4291 - val_accuracy: 0.8024\n",
      "Epoch 3/25\n",
      "65/65 [==============================] - 15s 238ms/step - loss: 0.5133 - accuracy: 0.7530 - val_loss: 0.4539 - val_accuracy: 0.7945\n",
      "Epoch 4/25\n",
      "65/65 [==============================] - 16s 245ms/step - loss: 0.4756 - accuracy: 0.7821 - val_loss: 0.3507 - val_accuracy: 0.8379\n",
      "Epoch 5/25\n",
      "65/65 [==============================] - 16s 235ms/step - loss: 0.4659 - accuracy: 0.7797 - val_loss: 0.4036 - val_accuracy: 0.8103\n",
      "Epoch 6/25\n",
      "65/65 [==============================] - 15s 238ms/step - loss: 0.4357 - accuracy: 0.7985 - val_loss: 0.3426 - val_accuracy: 0.8379\n",
      "Epoch 7/25\n",
      "65/65 [==============================] - 18s 271ms/step - loss: 0.3982 - accuracy: 0.8232 - val_loss: 0.3204 - val_accuracy: 0.8538\n",
      "Epoch 8/25\n",
      "65/65 [==============================] - 18s 277ms/step - loss: 0.3899 - accuracy: 0.8189 - val_loss: 0.2889 - val_accuracy: 0.8617\n",
      "Epoch 9/25\n",
      "65/65 [==============================] - 18s 278ms/step - loss: 0.3297 - accuracy: 0.8518 - val_loss: 0.3374 - val_accuracy: 0.8538\n",
      "Epoch 10/25\n",
      "65/65 [==============================] - 18s 273ms/step - loss: 0.3604 - accuracy: 0.8499 - val_loss: 0.2675 - val_accuracy: 0.8696\n",
      "Epoch 11/25\n",
      "65/65 [==============================] - 17s 257ms/step - loss: 0.3197 - accuracy: 0.8605 - val_loss: 0.2996 - val_accuracy: 0.8775\n",
      "Epoch 12/25\n",
      "65/65 [==============================] - 14s 206ms/step - loss: 0.3215 - accuracy: 0.8630 - val_loss: 0.2650 - val_accuracy: 0.9012\n",
      "Epoch 13/25\n",
      "65/65 [==============================] - 21s 328ms/step - loss: 0.2756 - accuracy: 0.8867 - val_loss: 0.3188 - val_accuracy: 0.8893\n",
      "Epoch 14/25\n",
      "65/65 [==============================] - 23s 356ms/step - loss: 0.2597 - accuracy: 0.8910 - val_loss: 0.2350 - val_accuracy: 0.8933\n",
      "Epoch 15/25\n",
      "65/65 [==============================] - 24s 361ms/step - loss: 0.2277 - accuracy: 0.9022 - val_loss: 0.2655 - val_accuracy: 0.8972\n",
      "Epoch 16/25\n",
      "65/65 [==============================] - 21s 326ms/step - loss: 0.2253 - accuracy: 0.9157 - val_loss: 0.2737 - val_accuracy: 0.8775\n",
      "Epoch 17/25\n",
      "65/65 [==============================] - 22s 337ms/step - loss: 0.2656 - accuracy: 0.8935 - val_loss: 0.2472 - val_accuracy: 0.8933\n",
      "Epoch 18/25\n",
      "65/65 [==============================] - 24s 361ms/step - loss: 0.1915 - accuracy: 0.9264 - val_loss: 0.2421 - val_accuracy: 0.9091\n",
      "Epoch 19/25\n",
      "65/65 [==============================] - 19s 287ms/step - loss: 0.1789 - accuracy: 0.9293 - val_loss: 0.2166 - val_accuracy: 0.9170\n",
      "Epoch 20/25\n",
      "65/65 [==============================] - 18s 274ms/step - loss: 0.1719 - accuracy: 0.9366 - val_loss: 0.2167 - val_accuracy: 0.9209\n",
      "Epoch 21/25\n",
      "65/65 [==============================] - 20s 302ms/step - loss: 0.1888 - accuracy: 0.9225 - val_loss: 0.1994 - val_accuracy: 0.9170\n",
      "Epoch 22/25\n",
      "65/65 [==============================] - 23s 355ms/step - loss: 0.1640 - accuracy: 0.9312 - val_loss: 0.2007 - val_accuracy: 0.9368\n",
      "Epoch 23/25\n",
      "65/65 [==============================] - 21s 328ms/step - loss: 0.1550 - accuracy: 0.9370 - val_loss: 0.1817 - val_accuracy: 0.9368\n",
      "Epoch 24/25\n",
      "65/65 [==============================] - 19s 288ms/step - loss: 0.1347 - accuracy: 0.9511 - val_loss: 0.1715 - val_accuracy: 0.9447\n",
      "Epoch 25/25\n",
      "65/65 [==============================] - 18s 272ms/step - loss: 0.1273 - accuracy: 0.9521 - val_loss: 0.1840 - val_accuracy: 0.9486\n"
     ]
    }
   ],
   "source": [
    "# Part 3 - Training the CNN\n",
    "\n",
    "# Compiling the CNN\n",
    "cnn.compile(optimizer = 'adam', loss = 'binary_crossentropy', metrics = ['accuracy'])\n",
    "\n",
    "# Training the CNN on the Training set and evaluating it on the Test set\n",
    "history = cnn.fit(x = training_set, validation_data = test_set, epochs = 25)"
   ]
  },
  {
   "cell_type": "code",
   "execution_count": 37,
   "id": "18bd608c",
   "metadata": {},
   "outputs": [],
   "source": [
    "#cnn.save('F:/Project/saved_models/cnn5_model.h5')"
   ]
  },
  {
   "cell_type": "code",
   "execution_count": 38,
   "id": "44d93b0a",
   "metadata": {},
   "outputs": [
    {
     "data": {
      "image/png": "[encoded data removed]",
      "text/plain": [
       "<Figure size 432x288 with 1 Axes>"
      ]
     },
     "metadata": {
      "needs_background": "light"
     },
     "output_type": "display_data"
    }
   ],
   "source": [
    "#plotting accuracy\n",
    "history.history.keys()\n",
    "\n",
    "import matplotlib.pyplot as plt\n",
    "\n",
    "plt.plot(history.history['accuracy'])\n",
    "plt.title('Accuracy')\n",
    "plt.ylabel('accuracy')\n",
    "plt.xlabel('number of epoch')\n",
    "plt.legend(['accuracy'],loc='upper left')\n",
    "plt.show()\n"
   ]
  },
  {
   "cell_type": "code",
   "execution_count": 39,
   "id": "7f09bfbb",
   "metadata": {},
   "outputs": [
    {
     "data": {
      "image/png": "[encoded data removed]",
      "text/plain": [
       "<Figure size 432x288 with 1 Axes>"
      ]
     },
     "metadata": {
      "needs_background": "light"
     },
     "output_type": "display_data"
    }
   ],
   "source": [
    "plt.plot(history.history['loss'])\n",
    "plt.title('model loss')\n",
    "plt.ylabel('loss')\n",
    "plt.xlabel('epoch')\n",
    "plt.legend(['train'],loc='upper left')\n",
    "plt.show()"
   ]
  },
  {
   "cell_type": "code",
   "execution_count": 46,
   "id": "94b33ab8",
   "metadata": {},
   "outputs": [],
   "source": [
    "from sklearn.metrics import confusion_matrix\n",
    "import numpy as np\n",
    "import seaborn as sns"
   ]
  },
  {
   "cell_type": "code",
   "execution_count": 42,
   "id": "319c826e",
   "metadata": {},
   "outputs": [],
   "source": [
    "y_pred = cnn.predict(test_set, batch_size=32)"
   ]
  },
  {
   "cell_type": "code",
   "execution_count": 44,
   "id": "29f276a0",
   "metadata": {},
   "outputs": [
    {
     "ename": "KeyboardInterrupt",
     "evalue": "",
     "output_type": "error",
     "traceback": [
      "\u001b[1;31m---------------------------------------------------------------------------\u001b[0m",
      "\u001b[1;31mKeyboardInterrupt\u001b[0m                         Traceback (most recent call last)",
      "\u001b[1;32mf:\\Project\\convolution_network.ipynb Cell 12'\u001b[0m in \u001b[0;36m<cell line: 2>\u001b[1;34m()\u001b[0m\n\u001b[0;32m      <a href='vscode-notebook-cell:/f%3A/Project/convolution_network.ipynb#ch0000017?line=0'>1</a>\u001b[0m y_pred_bin \u001b[39m=\u001b[39m np\u001b[39m.\u001b[39margmax(y_pred, axis\u001b[39m=\u001b[39m\u001b[39m1\u001b[39m)\n\u001b[1;32m----> <a href='vscode-notebook-cell:/f%3A/Project/convolution_network.ipynb#ch0000017?line=1'>2</a>\u001b[0m y_test_bin \u001b[39m=\u001b[39m np\u001b[39m.\u001b[39;49margmax(test_set, axis\u001b[39m=\u001b[39;49m\u001b[39m1\u001b[39;49m)\n",
      "File \u001b[1;32m<__array_function__ internals>:180\u001b[0m, in \u001b[0;36margmax\u001b[1;34m(*args, **kwargs)\u001b[0m\n",
      "File \u001b[1;32m~\\AppData\\Local\\Programs\\Python\\Python310\\lib\\site-packages\\numpy\\core\\fromnumeric.py:1216\u001b[0m, in \u001b[0;36margmax\u001b[1;34m(a, axis, out, keepdims)\u001b[0m\n\u001b[0;32m   <a href='file:///c%3A/Users/Sweekar/AppData/Local/Programs/Python/Python310/lib/site-packages/numpy/core/fromnumeric.py?line=1128'>1129</a>\u001b[0m \u001b[39m\"\"\"\u001b[39;00m\n\u001b[0;32m   <a href='file:///c%3A/Users/Sweekar/AppData/Local/Programs/Python/Python310/lib/site-packages/numpy/core/fromnumeric.py?line=1129'>1130</a>\u001b[0m \u001b[39mReturns the indices of the maximum values along an axis.\u001b[39;00m\n\u001b[0;32m   <a href='file:///c%3A/Users/Sweekar/AppData/Local/Programs/Python/Python310/lib/site-packages/numpy/core/fromnumeric.py?line=1130'>1131</a>\u001b[0m \n\u001b[1;32m   (...)\u001b[0m\n\u001b[0;32m   <a href='file:///c%3A/Users/Sweekar/AppData/Local/Programs/Python/Python310/lib/site-packages/numpy/core/fromnumeric.py?line=1212'>1213</a>\u001b[0m \u001b[39m(2, 1, 4)\u001b[39;00m\n\u001b[0;32m   <a href='file:///c%3A/Users/Sweekar/AppData/Local/Programs/Python/Python310/lib/site-packages/numpy/core/fromnumeric.py?line=1213'>1214</a>\u001b[0m \u001b[39m\"\"\"\u001b[39;00m\n\u001b[0;32m   <a href='file:///c%3A/Users/Sweekar/AppData/Local/Programs/Python/Python310/lib/site-packages/numpy/core/fromnumeric.py?line=1214'>1215</a>\u001b[0m kwds \u001b[39m=\u001b[39m {\u001b[39m'\u001b[39m\u001b[39mkeepdims\u001b[39m\u001b[39m'\u001b[39m: keepdims} \u001b[39mif\u001b[39;00m keepdims \u001b[39mis\u001b[39;00m \u001b[39mnot\u001b[39;00m np\u001b[39m.\u001b[39m_NoValue \u001b[39melse\u001b[39;00m {}\n\u001b[1;32m-> <a href='file:///c%3A/Users/Sweekar/AppData/Local/Programs/Python/Python310/lib/site-packages/numpy/core/fromnumeric.py?line=1215'>1216</a>\u001b[0m \u001b[39mreturn\u001b[39;00m _wrapfunc(a, \u001b[39m'\u001b[39m\u001b[39margmax\u001b[39m\u001b[39m'\u001b[39m, axis\u001b[39m=\u001b[39maxis, out\u001b[39m=\u001b[39mout, \u001b[39m*\u001b[39m\u001b[39m*\u001b[39mkwds)\n",
      "File \u001b[1;32m~\\AppData\\Local\\Programs\\Python\\Python310\\lib\\site-packages\\numpy\\core\\fromnumeric.py:54\u001b[0m, in \u001b[0;36m_wrapfunc\u001b[1;34m(obj, method, *args, **kwds)\u001b[0m\n\u001b[0;32m     <a href='file:///c%3A/Users/Sweekar/AppData/Local/Programs/Python/Python310/lib/site-packages/numpy/core/fromnumeric.py?line=51'>52</a>\u001b[0m bound \u001b[39m=\u001b[39m \u001b[39mgetattr\u001b[39m(obj, method, \u001b[39mNone\u001b[39;00m)\n\u001b[0;32m     <a href='file:///c%3A/Users/Sweekar/AppData/Local/Programs/Python/Python310/lib/site-packages/numpy/core/fromnumeric.py?line=52'>53</a>\u001b[0m \u001b[39mif\u001b[39;00m bound \u001b[39mis\u001b[39;00m \u001b[39mNone\u001b[39;00m:\n\u001b[1;32m---> <a href='file:///c%3A/Users/Sweekar/AppData/Local/Programs/Python/Python310/lib/site-packages/numpy/core/fromnumeric.py?line=53'>54</a>\u001b[0m     \u001b[39mreturn\u001b[39;00m _wrapit(obj, method, \u001b[39m*\u001b[39margs, \u001b[39m*\u001b[39m\u001b[39m*\u001b[39mkwds)\n\u001b[0;32m     <a href='file:///c%3A/Users/Sweekar/AppData/Local/Programs/Python/Python310/lib/site-packages/numpy/core/fromnumeric.py?line=55'>56</a>\u001b[0m \u001b[39mtry\u001b[39;00m:\n\u001b[0;32m     <a href='file:///c%3A/Users/Sweekar/AppData/Local/Programs/Python/Python310/lib/site-packages/numpy/core/fromnumeric.py?line=56'>57</a>\u001b[0m     \u001b[39mreturn\u001b[39;00m bound(\u001b[39m*\u001b[39margs, \u001b[39m*\u001b[39m\u001b[39m*\u001b[39mkwds)\n",
      "File \u001b[1;32m~\\AppData\\Local\\Programs\\Python\\Python310\\lib\\site-packages\\numpy\\core\\fromnumeric.py:43\u001b[0m, in \u001b[0;36m_wrapit\u001b[1;34m(obj, method, *args, **kwds)\u001b[0m\n\u001b[0;32m     <a href='file:///c%3A/Users/Sweekar/AppData/Local/Programs/Python/Python310/lib/site-packages/numpy/core/fromnumeric.py?line=40'>41</a>\u001b[0m \u001b[39mexcept\u001b[39;00m \u001b[39mAttributeError\u001b[39;00m:\n\u001b[0;32m     <a href='file:///c%3A/Users/Sweekar/AppData/Local/Programs/Python/Python310/lib/site-packages/numpy/core/fromnumeric.py?line=41'>42</a>\u001b[0m     wrap \u001b[39m=\u001b[39m \u001b[39mNone\u001b[39;00m\n\u001b[1;32m---> <a href='file:///c%3A/Users/Sweekar/AppData/Local/Programs/Python/Python310/lib/site-packages/numpy/core/fromnumeric.py?line=42'>43</a>\u001b[0m result \u001b[39m=\u001b[39m \u001b[39mgetattr\u001b[39m(asarray(obj), method)(\u001b[39m*\u001b[39margs, \u001b[39m*\u001b[39m\u001b[39m*\u001b[39mkwds)\n\u001b[0;32m     <a href='file:///c%3A/Users/Sweekar/AppData/Local/Programs/Python/Python310/lib/site-packages/numpy/core/fromnumeric.py?line=43'>44</a>\u001b[0m \u001b[39mif\u001b[39;00m wrap:\n\u001b[0;32m     <a href='file:///c%3A/Users/Sweekar/AppData/Local/Programs/Python/Python310/lib/site-packages/numpy/core/fromnumeric.py?line=44'>45</a>\u001b[0m     \u001b[39mif\u001b[39;00m \u001b[39mnot\u001b[39;00m \u001b[39misinstance\u001b[39m(result, mu\u001b[39m.\u001b[39mndarray):\n",
      "File \u001b[1;32m~\\AppData\\Local\\Programs\\Python\\Python310\\lib\\site-packages\\keras_preprocessing\\image\\iterator.py:104\u001b[0m, in \u001b[0;36mIterator.__next__\u001b[1;34m(self, *args, **kwargs)\u001b[0m\n\u001b[0;32m    <a href='file:///c%3A/Users/Sweekar/AppData/Local/Programs/Python/Python310/lib/site-packages/keras_preprocessing/image/iterator.py?line=102'>103</a>\u001b[0m \u001b[39mdef\u001b[39;00m \u001b[39m__next__\u001b[39m(\u001b[39mself\u001b[39m, \u001b[39m*\u001b[39margs, \u001b[39m*\u001b[39m\u001b[39m*\u001b[39mkwargs):\n\u001b[1;32m--> <a href='file:///c%3A/Users/Sweekar/AppData/Local/Programs/Python/Python310/lib/site-packages/keras_preprocessing/image/iterator.py?line=103'>104</a>\u001b[0m     \u001b[39mreturn\u001b[39;00m \u001b[39mself\u001b[39m\u001b[39m.\u001b[39mnext(\u001b[39m*\u001b[39margs, \u001b[39m*\u001b[39m\u001b[39m*\u001b[39mkwargs)\n",
      "File \u001b[1;32m~\\AppData\\Local\\Programs\\Python\\Python310\\lib\\site-packages\\keras_preprocessing\\image\\iterator.py:116\u001b[0m, in \u001b[0;36mIterator.next\u001b[1;34m(self)\u001b[0m\n\u001b[0;32m    <a href='file:///c%3A/Users/Sweekar/AppData/Local/Programs/Python/Python310/lib/site-packages/keras_preprocessing/image/iterator.py?line=112'>113</a>\u001b[0m     index_array \u001b[39m=\u001b[39m \u001b[39mnext\u001b[39m(\u001b[39mself\u001b[39m\u001b[39m.\u001b[39mindex_generator)\n\u001b[0;32m    <a href='file:///c%3A/Users/Sweekar/AppData/Local/Programs/Python/Python310/lib/site-packages/keras_preprocessing/image/iterator.py?line=113'>114</a>\u001b[0m \u001b[39m# The transformation of images is not under thread lock\u001b[39;00m\n\u001b[0;32m    <a href='file:///c%3A/Users/Sweekar/AppData/Local/Programs/Python/Python310/lib/site-packages/keras_preprocessing/image/iterator.py?line=114'>115</a>\u001b[0m \u001b[39m# so it can be done in parallel\u001b[39;00m\n\u001b[1;32m--> <a href='file:///c%3A/Users/Sweekar/AppData/Local/Programs/Python/Python310/lib/site-packages/keras_preprocessing/image/iterator.py?line=115'>116</a>\u001b[0m \u001b[39mreturn\u001b[39;00m \u001b[39mself\u001b[39;49m\u001b[39m.\u001b[39;49m_get_batches_of_transformed_samples(index_array)\n",
      "File \u001b[1;32m~\\AppData\\Local\\Programs\\Python\\Python310\\lib\\site-packages\\keras_preprocessing\\image\\iterator.py:240\u001b[0m, in \u001b[0;36mBatchFromFilesMixin._get_batches_of_transformed_samples\u001b[1;34m(self, index_array)\u001b[0m\n\u001b[0;32m    <a href='file:///c%3A/Users/Sweekar/AppData/Local/Programs/Python/Python310/lib/site-packages/keras_preprocessing/image/iterator.py?line=237'>238</a>\u001b[0m         x \u001b[39m=\u001b[39m \u001b[39mself\u001b[39m\u001b[39m.\u001b[39mimage_data_generator\u001b[39m.\u001b[39mapply_transform(x, params)\n\u001b[0;32m    <a href='file:///c%3A/Users/Sweekar/AppData/Local/Programs/Python/Python310/lib/site-packages/keras_preprocessing/image/iterator.py?line=238'>239</a>\u001b[0m         x \u001b[39m=\u001b[39m \u001b[39mself\u001b[39m\u001b[39m.\u001b[39mimage_data_generator\u001b[39m.\u001b[39mstandardize(x)\n\u001b[1;32m--> <a href='file:///c%3A/Users/Sweekar/AppData/Local/Programs/Python/Python310/lib/site-packages/keras_preprocessing/image/iterator.py?line=239'>240</a>\u001b[0m     batch_x[i] \u001b[39m=\u001b[39m x\n\u001b[0;32m    <a href='file:///c%3A/Users/Sweekar/AppData/Local/Programs/Python/Python310/lib/site-packages/keras_preprocessing/image/iterator.py?line=240'>241</a>\u001b[0m \u001b[39m# optionally save augmented images to disk for debugging purposes\u001b[39;00m\n\u001b[0;32m    <a href='file:///c%3A/Users/Sweekar/AppData/Local/Programs/Python/Python310/lib/site-packages/keras_preprocessing/image/iterator.py?line=241'>242</a>\u001b[0m \u001b[39mif\u001b[39;00m \u001b[39mself\u001b[39m\u001b[39m.\u001b[39msave_to_dir:\n",
      "\u001b[1;31mKeyboardInterrupt\u001b[0m: "
     ]
    }
   ],
   "source": [
    "y_pred_bin = np.argmax(y_pred, axis=1)\n",
    "y_test_bin = np.argmax(test_set, axis=1)"
   ]
  },
  {
   "cell_type": "code",
   "execution_count": null,
   "id": "731797ba",
   "metadata": {},
   "outputs": [],
   "source": [
    "def plot_confusion_matrix(normalize):\n",
    "  classes = ['Tumor','NonTumor']\n",
    "  tick_marks = [0.5,1.5]\n",
    "  cn = confusion_matrix(y_test_bin, y_pred_bin,normalize=normalize)\n",
    "  sns.heatmap(cn,cmap='plasma',annot=True)\n",
    "  plt.xticks(tick_marks, classes)\n",
    "  plt.yticks(tick_marks, classes)\n",
    "  plt.title('Confusion Matrix')\n",
    "  plt.ylabel('True label')\n",
    "  plt.xlabel('Predicted label')\n",
    "  plt.show()\n",
    "\n",
    "print('Confusion Matrix without Normalization')\n",
    "plot_confusion_matrix(normalize=None)\n",
    "\n",
    "print('Confusion Matrix with Normalized Values')\n",
    "plot_confusion_matrix(normalize='true')"
   ]
  }
 ],
 "metadata": {
  "kernelspec": {
   "display_name": "Python 3 (ipykernel)",
   "language": "python",
   "name": "python3"
  },
  "language_info": {
   "codemirror_mode": {
    "name": "ipython",
    "version": 3
   },
   "file_extension": ".py",
   "mimetype": "text/x-python",
   "name": "python",
   "nbconvert_exporter": "python",
   "pygments_lexer": "ipython3",
   "version": "3.10.2"
  }
 },
 "nbformat": 4,
 "nbformat_minor": 5
}
